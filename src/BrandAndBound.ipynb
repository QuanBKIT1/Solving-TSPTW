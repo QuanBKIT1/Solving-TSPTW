{
 "cells": [
  {
   "attachments": {},
   "cell_type": "markdown",
   "metadata": {},
   "source": [
    "### Input"
   ]
  },
  {
   "cell_type": "code",
   "execution_count": 11,
   "metadata": {},
   "outputs": [],
   "source": [
    "file_name = \"N5.txt\"\n",
    "f = open(\"testcase/\" + file_name, \"r\", encoding=\"utf-8\")\n",
    "input = f.read().split('\\n')\n",
    "\n",
    "n = int(input[0])\n",
    "e = [0] * (n+1)\n",
    "l = [0] * (n+1)\n",
    "d = [0] * (n+1)\n",
    "t = []\n",
    "min_t = 999\n",
    "min_d = 9999\n",
    "for i in range(1, n+1):\n",
    "    tmp = input[i].split(' ')\n",
    "    e[i] = float(tmp[0])\n",
    "    l[i] = float(tmp[1])\n",
    "    d[i] = float(tmp[2])\n",
    "    min_d = min(min_d, d[i])\n",
    "input = input[n+1:]\n",
    "\n",
    "for i in range(n+1):\n",
    "    tmp = input[i].split(' ')[:-1]\n",
    "    arr = []\n",
    "    for c in tmp:\n",
    "        arr.append(float(c))\n",
    "        if float(c) != 0:\n",
    "            min_t = min(min_t, float(c))\n",
    "    t.append(arr)"
   ]
  },
  {
   "attachments": {},
   "cell_type": "markdown",
   "metadata": {},
   "source": [
    "### Start"
   ]
  },
  {
   "cell_type": "code",
   "execution_count": 12,
   "metadata": {},
   "outputs": [],
   "source": [
    "X = [0] * (n+1)\n",
    "min_cost = 999999\n",
    "min_X = [0] * (n+1)\n",
    "check_visited =  [0] * (n+1)\n",
    "TGD = [0] * (n+1)\n",
    "KT = [0] * (n+1)\n",
    "\n",
    "X[0] = 0\n",
    "check_visited[0] = 1\n",
    "TGD[0] = 0\n",
    "KT[0] = 0"
   ]
  },
  {
   "cell_type": "code",
   "execution_count": 13,
   "metadata": {},
   "outputs": [
    {
     "data": {
      "text/plain": [
       "(10.0, 5.0)"
      ]
     },
     "execution_count": 13,
     "metadata": {},
     "output_type": "execute_result"
    }
   ],
   "source": [
    "min_t, min_d"
   ]
  },
  {
   "attachments": {},
   "cell_type": "markdown",
   "metadata": {},
   "source": [
    "### Solution"
   ]
  },
  {
   "cell_type": "code",
   "execution_count": 14,
   "metadata": {},
   "outputs": [],
   "source": [
    "def check(k, i):\n",
    "    tgd = KT[k-1] + t[X[k-1]][i]\n",
    "    if check_visited[i] == 1 or tgd > l[i]: \n",
    "        return 0\n",
    "    return 1\n",
    "\n",
    "def Try(k):\n",
    "    global X, min_cost, min_X, check_visited, TGD, KT\n",
    "    for i in range(1,n+1):\n",
    "        if check(k,i):\n",
    "            check_visited[i] = 1\n",
    "            X[k] = i\n",
    "            TGD[k] = KT[k-1] + + t[X[k-1]][i]\n",
    "            KT[k] = max(TGD[k], e[i]) + d[i]\n",
    "            if k == n:\n",
    "                cost = KT[k] + t[i][0]\n",
    "                if cost < min_cost:\n",
    "                    min_cost = cost\n",
    "                    min_X = X.copy()\n",
    "            else:\n",
    "                if KT[k] + (min_d + min_t)*(n-k) +  min_t < min_cost:\n",
    "                    Try(k+1)\n",
    "            check_visited[i] = 0"
   ]
  },
  {
   "cell_type": "code",
   "execution_count": 15,
   "metadata": {},
   "outputs": [
    {
     "name": "stdout",
     "output_type": "stream",
     "text": [
      "Thời gian chạy: 0.0010020732879638672 giây\n"
     ]
    }
   ],
   "source": [
    "import time\n",
    "start_time = time.time()\n",
    "Try(1)\n",
    "end_time = time.time() \n",
    "elapsed_time = end_time - start_time\n",
    "print(f\"Thời gian chạy: {elapsed_time} giây\")"
   ]
  },
  {
   "cell_type": "code",
   "execution_count": 16,
   "metadata": {},
   "outputs": [
    {
     "data": {
      "text/plain": [
       "465.0"
      ]
     },
     "execution_count": 16,
     "metadata": {},
     "output_type": "execute_result"
    }
   ],
   "source": [
    "min_cost"
   ]
  },
  {
   "cell_type": "code",
   "execution_count": 17,
   "metadata": {},
   "outputs": [
    {
     "data": {
      "text/plain": [
       "[0, 1, 5, 3, 2, 4]"
      ]
     },
     "execution_count": 17,
     "metadata": {},
     "output_type": "execute_result"
    }
   ],
   "source": [
    "min_X"
   ]
  },
  {
   "cell_type": "code",
   "execution_count": 18,
   "metadata": {},
   "outputs": [],
   "source": [
    "def write_array_to_txt(array, filename):\n",
    "    name = file_name.split('.')[0]\n",
    "    name = name[1:]\n",
    "    with open(filename, 'w') as file:\n",
    "            file.write(array + '\\n')\n",
    "array_path = [str(i) for i in min_X]        \n",
    "array_path = ' '.join(array_path[1:])\n",
    "write_array_to_txt(array_path, 'Nhanh_can/' + file_name)"
   ]
  }
 ],
 "metadata": {
  "kernelspec": {
   "display_name": "Python 3",
   "language": "python",
   "name": "python3"
  },
  "language_info": {
   "codemirror_mode": {
    "name": "ipython",
    "version": 3
   },
   "file_extension": ".py",
   "mimetype": "text/x-python",
   "name": "python",
   "nbconvert_exporter": "python",
   "pygments_lexer": "ipython3",
   "version": "3.9.6"
  },
  "orig_nbformat": 4
 },
 "nbformat": 4,
 "nbformat_minor": 2
}
